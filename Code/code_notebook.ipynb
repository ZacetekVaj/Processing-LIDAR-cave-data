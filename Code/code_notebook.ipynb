{
 "cells": [
  {
   "cell_type": "code",
   "execution_count": 1,
   "metadata": {},
   "outputs": [
    {
     "name": "stdout",
     "output_type": "stream",
     "text": [
      "Jupyter environment detected. Enabling Open3D WebVisualizer.\n",
      "[Open3D INFO] WebRTC GUI backend enabled.\n",
      "[Open3D INFO] WebRTCWindowSystem: HTTP handshake server disabled.\n"
     ]
    }
   ],
   "source": [
    "# Imports\n",
    "import open3d as o3d\n",
    "import numpy as np\n",
    "import helper_functions\n",
    "import copy"
   ]
  },
  {
   "cell_type": "code",
   "execution_count": 2,
   "metadata": {},
   "outputs": [],
   "source": [
    "# Getting the whole cave\n",
    "original_point_cloud = o3d.io.read_point_cloud('01_VersChezLeBrandt_full.ply')\n",
    "# Draw\n",
    "#o3d.visualization.draw_geometries([pcd])\n",
    "#stripped_cave = helper_functions.get_cave_section(original_point_cloud,0,1)\n",
    "#o3d.visualization.draw_geometries([original_point_cloud])"
   ]
  },
  {
   "cell_type": "code",
   "execution_count": 16,
   "metadata": {},
   "outputs": [],
   "source": [
    "# Downsampling point cloud\n",
    "downsampled_point_cloud = o3d.geometry.PointCloud()\n",
    "downsampled_point_cloud.points = original_point_cloud.points\n",
    "downsampled_point_cloud = downsampled_point_cloud.voxel_down_sample(0.1)"
   ]
  },
  {
   "cell_type": "code",
   "execution_count": 17,
   "metadata": {},
   "outputs": [],
   "source": [
    "#o3d.visualization.draw_geometries([downsampled_point_cloud])"
   ]
  },
  {
   "cell_type": "code",
   "execution_count": 4,
   "metadata": {},
   "outputs": [],
   "source": [
    "# Selecting 23% of the cave along its longest axis, the section selected starts at 67% of the caves longest axis\n",
    "cave_section_optimized = helper_functions.crop_main_cloud(original_point_cloud,downsampled_point_cloud,0.23,0,-0.17)\n",
    "# Obtaining bounding box for the cave section\n",
    "starting_bounding_box = cave_section_optimized.get_minimal_oriented_bounding_box()\n",
    "starting_bounding_box.color = [0, 1, 0]\n",
    "# Draw\n",
    "#o3d.visualization.draw_geometries([cave_section, starting_bounding_box])"
   ]
  },
  {
   "cell_type": "code",
   "execution_count": 5,
   "metadata": {},
   "outputs": [
    {
     "data": {
      "text/plain": [
       "TriangleMesh with 15757 points and 858 triangles."
      ]
     },
     "execution_count": 5,
     "metadata": {},
     "output_type": "execute_result"
    }
   ],
   "source": [
    "# Creating and cleaning the mesh that results from our cave section\n",
    "original_mesh = helper_functions.get_poisson_mesh_from_point_cloud(cave_section_optimized)\n",
    "clean_mesh = helper_functions.clean_mesh(original_mesh)\n",
    "# For visualizing parts that we removed\n",
    "removed_mesh_parts = helper_functions.clean_mesh(original_mesh, False)\n",
    "removed_mesh_parts.paint_uniform_color([1,0, 0])\n",
    "\n",
    "#o3d.visualization.draw_geometries([original_mesh])\n",
    "#o3d.visualization.draw_geometries([clean_mesh])\n",
    "#o3d.visualization.draw_geometries([clean_mesh, removed_mesh_parts])"
   ]
  },
  {
   "cell_type": "code",
   "execution_count": 6,
   "metadata": {},
   "outputs": [],
   "source": [
    "# Obtaining cave section surface area\n",
    "surface_area = helper_functions.compute_surface_area(clean_mesh)"
   ]
  },
  {
   "cell_type": "code",
   "execution_count": 7,
   "metadata": {},
   "outputs": [
    {
     "data": {
      "text/plain": [
       "1317.5273248466435"
      ]
     },
     "execution_count": 7,
     "metadata": {},
     "output_type": "execute_result"
    }
   ],
   "source": [
    "surface_area"
   ]
  },
  {
   "cell_type": "code",
   "execution_count": 8,
   "metadata": {},
   "outputs": [],
   "source": [
    "# Obtaining volume\n",
    "volume, boxes, meshes, hulls = helper_functions.get_volume_of_cave_section(starting_bounding_box, clean_mesh, 0.01, 2, 0)"
   ]
  },
  {
   "cell_type": "code",
   "execution_count": 9,
   "metadata": {},
   "outputs": [
    {
     "data": {
      "text/plain": [
       "1666.015297681442"
      ]
     },
     "execution_count": 9,
     "metadata": {},
     "output_type": "execute_result"
    }
   ],
   "source": [
    "volume"
   ]
  },
  {
   "cell_type": "code",
   "execution_count": 86,
   "metadata": {},
   "outputs": [],
   "source": [
    "# For images\n",
    "#translated_hulls = copy.deepcopy(hulls)\n",
    "#starting_bounding_box.color = [1, 0, 0]\n",
    "#o3d.visualization.draw_geometries([clean_mesh] + boxes[70:80] + hulls[70:80] + [starting_bounding_box] + boxes[70:80] + hulls[70:80] +[hull.translate([0,0,-15]) for hull in translated_hulls[70:80]])"
   ]
  },
  {
   "cell_type": "code",
   "execution_count": 10,
   "metadata": {},
   "outputs": [],
   "source": [
    "# Obtaining caves skeleton\n",
    "line_skeleton, mesh_skeleton = helper_functions.create_cave_skeleton(cave_section_optimized, clean_mesh, longest_axis_index = 0)\n",
    "o3d.visualization.draw_geometries([line_skeleton, mesh_skeleton])"
   ]
  },
  {
   "cell_type": "code",
   "execution_count": 11,
   "metadata": {},
   "outputs": [],
   "source": [
    "# Obtaining cave lenght\n",
    "cave_lenght = helper_functions.compute_total_line_length(line_skeleton)"
   ]
  },
  {
   "cell_type": "code",
   "execution_count": 12,
   "metadata": {},
   "outputs": [
    {
     "data": {
      "text/plain": [
       "46.72862365705156"
      ]
     },
     "execution_count": 12,
     "metadata": {},
     "output_type": "execute_result"
    }
   ],
   "source": [
    "cave_lenght"
   ]
  },
  {
   "cell_type": "code",
   "execution_count": 13,
   "metadata": {},
   "outputs": [
    {
     "data": {
      "text/plain": [
       "0.6002850017250969"
      ]
     },
     "execution_count": 13,
     "metadata": {},
     "output_type": "execute_result"
    }
   ],
   "source": [
    "# Obtaining roundnes\n",
    "r1, r2 = helper_functions.obtain_roundness(helper_functions.group_points_by_x_coordinate(original_mesh))\n",
    "roundnes = np.mean(r1+r2)\n",
    "roundnes"
   ]
  }
 ],
 "metadata": {
  "kernelspec": {
   "display_name": "Python 3",
   "language": "python",
   "name": "python3"
  },
  "language_info": {
   "codemirror_mode": {
    "name": "ipython",
    "version": 3
   },
   "file_extension": ".py",
   "mimetype": "text/x-python",
   "name": "python",
   "nbconvert_exporter": "python",
   "pygments_lexer": "ipython3",
   "version": "3.10.8"
  }
 },
 "nbformat": 4,
 "nbformat_minor": 2
}
